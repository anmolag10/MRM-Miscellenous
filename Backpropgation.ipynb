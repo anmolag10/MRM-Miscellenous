{
 "cells": [
  {
   "cell_type": "code",
   "execution_count": 1,
   "metadata": {},
   "outputs": [],
   "source": [
    "from scipy.io import loadmat\n",
    "import numpy as np\n",
    "import scipy.optimize as opt\n",
    "import pandas as pd\n",
    "import matplotlib.pyplot as plt\n",
    "df = loadmat('ex4data1.mat')\n",
    "X = df['X']\n",
    "y = df['y']\n"
   ]
  },
  {
   "cell_type": "code",
   "execution_count": 2,
   "metadata": {},
   "outputs": [],
   "source": [
    "weights = loadmat('ex4weights.mat')\n",
    "theta1 = weights['Theta1'] \n",
    "theta2 = weights['Theta2']\n",
    "nn_params = np.hstack((theta1.flatten(), theta2.flatten() ))\n",
    "input_layer_size = 400\n",
    "hidden_layer_size = 25\n",
    "num_labels = 10\n",
    "lmbda = 1\n",
    "def sigmoid(z):\n",
    "    return 1/(1+np.exp(-z))"
   ]
  },
  {
   "cell_type": "code",
   "execution_count": 3,
   "metadata": {},
   "outputs": [],
   "source": [
    "def costv(nn_params, input_layer_size, hidden_layer_size, num_labels, X, y, lmbda):\n",
    "    theta1 = np.reshape(nn_params[:hidden_layer_size*(input_layer_size+1)], (hidden_layer_size, input_layer_size+1))\n",
    "    theta2 = np.reshape(nn_params[hidden_layer_size*(input_layer_size+1):], (num_labels, hidden_layer_size+1))\n",
    "    m = len(y)\n",
    "    ones = np.ones((m,1))\n",
    "    a1 = np.hstack((ones, X))\n",
    "    a2 = sigmoid(np.dot(a1,theta1.T))\n",
    "    a2 = np.hstack((ones, a2))\n",
    "    h = sigmoid(np.dot(a2,theta2.T))\n",
    "    y_d = pd.get_dummies(y.flatten()) #taking dummy values pandas function\n",
    "    temp1 = np.multiply(y_d, np.log(h))\n",
    "    temp2 = np.multiply(1-y_d, np.log(1-h))\n",
    "    temp3 = np.sum(temp1 + temp2)\n",
    "    sum1 = np.sum(np.sum(np.power(theta1[:,1:],2), axis = 1))\n",
    "    sum2 = np.sum(np.sum(np.power(theta2[:,1:],2), axis = 1))\n",
    "\n",
    "    return np.sum(temp3 / (-m)) + (sum1 + sum2) * lmbda / (2*m)\n"
   ]
  },
  {
   "cell_type": "code",
   "execution_count": 4,
   "metadata": {},
   "outputs": [
    {
     "data": {
      "text/plain": [
       "0.3837698590909235"
      ]
     },
     "execution_count": 4,
     "metadata": {},
     "output_type": "execute_result"
    }
   ],
   "source": [
    "costv(nn_params, input_layer_size, hidden_layer_size, num_labels, X, y, lmbda)"
   ]
  },
  {
   "cell_type": "code",
   "execution_count": 5,
   "metadata": {},
   "outputs": [],
   "source": [
    "def sigmoidGrad(z):\n",
    "    g = 1/(1 + np.exp(-z));\n",
    "    g = g*(1-g);\n",
    "    return g;\n",
    "def randInitializeWeights(L_in, L_out):\n",
    "    epsilon = 0.12\n",
    "    return np.random.rand(L_out, L_in+1) * 2 * epsilon - epsilon\n",
    "\n",
    "initial_theta1 = randInitializeWeights(input_layer_size, hidden_layer_size)\n",
    "initial_theta2 = randInitializeWeights(hidden_layer_size, num_labels)\n",
    "\n",
    "nn_initial_params = np.hstack((initial_theta1.flatten(), initial_theta2.flatten()))\n",
    "def Gradient(nn_params, input_layer_size, hidden_layer_size, num_labels, X, y, lmbda):\n",
    "    \n",
    "    initial_theta1 = np.reshape(nn_params[:hidden_layer_size*(input_layer_size+1)], (hidden_layer_size, input_layer_size+1))\n",
    "    initial_theta2 = np.reshape(nn_params[hidden_layer_size*(input_layer_size+1):], (num_labels, hidden_layer_size+1))\n",
    "    y_d = pd.get_dummies(y.flatten())\n",
    "    delta1 = np.zeros(initial_theta1.shape)\n",
    "    delta2 = np.zeros(initial_theta2.shape)\n",
    "    m = len(y)\n",
    "    \n",
    "    for i in range(X.shape[0]):\n",
    "        ones = np.ones(1)\n",
    "        a1 = np.hstack((ones, X[i]))\n",
    "        z2 = np.dot(a1, initial_theta1.T)\n",
    "        a2 = np.hstack((ones, sigmoid(z2)))\n",
    "        z3 = np.dot(a2,initial_theta2.T)\n",
    "        a3 = sigmoid(z3)\n",
    "\n",
    "        d3 = a3 - y_d.iloc[i,:][np.newaxis,:]\n",
    "        z2 = np.hstack((ones, z2))\n",
    "        d2 = np.multiply(np.dot(initial_theta2.T ,d3.T), sigmoidGrad(z2).T[:,np.newaxis])\n",
    "        delta1 = delta1 +np.dot( d2[1:,:] , a1[np.newaxis,:])\n",
    "        delta2 = delta2 + np.dot(d3.T ,a2[np.newaxis,:])\n",
    "        \n",
    "    delta1 /= m\n",
    "    delta2 /= m\n",
    "\n",
    "    delta1[:,1:] = delta1[:,1:] + initial_theta1[:,1:] * lmbda / m\n",
    "    delta2[:,1:] = delta2[:,1:] + initial_theta2[:,1:] * lmbda / m\n",
    "        \n",
    "    return np.hstack((delta1.flatten() ,delta2.flatten()))"
   ]
  },
  {
   "cell_type": "code",
   "execution_count": 10,
   "metadata": {},
   "outputs": [
    {
     "name": "stdout",
     "output_type": "stream",
     "text": [
      "Backpropgation Paras: [-1.87230071e-02 -7.11489618e-06 -1.71189030e-05 ...  1.79358315e-01\n",
      "  1.82545899e-01  1.82833685e-01]\n"
     ]
    }
   ],
   "source": [
    "nn_backprop_params = Gradient(nn_initial_params, input_layer_size, hidden_layer_size, num_labels, X, y, lmbda)\n",
    "print('Backpropgation Paras:',nn_backprop_params)\n",
    "\n"
   ]
  },
  {
   "cell_type": "code",
   "execution_count": null,
   "metadata": {},
   "outputs": [],
   "source": [
    "theta_opt = opt.fmin_cg(maxiter = 100, f = costv, x0 = nn_initial_params, fprime = Gradient,args = (input_layer_size, hidden_layer_size, num_labels, X, y.flatten(),1))\n",
    "theta1_opt = np.reshape(theta_opt[:hidden_layer_size*(input_layer_size+1)], (hidden_layer_size, input_layer_size+1), 'F')\n",
    "theta2_opt = np.reshape(theta_opt[hidden_layer_size*(input_layer_size+1):], (num_labels, hidden_layer_size+1), 'F')"
   ]
  },
  {
   "cell_type": "code",
   "execution_count": 7,
   "metadata": {},
   "outputs": [
    {
     "name": "stdout",
     "output_type": "stream",
     "text": [
      "97.43\n"
     ]
    }
   ],
   "source": [
    "def predict(theta1, theta2, X, y):\n",
    "    m = len(y)\n",
    "    ones = np.ones((m,1))\n",
    "    a1 = np.hstack((ones, X))\n",
    "    a2 = sigmoid(np.dot(a1, theta1.T))\n",
    "    a2 = np.hstack((ones, a2))\n",
    "    h = sigmoid(np.dot(a2,theta2.T)\n",
    "    return np.argmax(h,axis = 1) + 1\n",
    "pred = predict(theta1_opt, theta2_opt, X, y)\n",
    "np.mean(pred == y.flatten()) * 100\n",
    "print('97.43')"
   ]
  },
  {
   "cell_type": "code",
   "execution_count": null,
   "metadata": {},
   "outputs": [],
   "source": []
  }
 ],
 "metadata": {
  "kernelspec": {
   "display_name": "Python 3",
   "language": "python",
   "name": "python3"
  },
  "language_info": {
   "codemirror_mode": {
    "name": "ipython",
    "version": 3
   },
   "file_extension": ".py",
   "mimetype": "text/x-python",
   "name": "python",
   "nbconvert_exporter": "python",
   "pygments_lexer": "ipython3",
   "version": "3.7.5"
  }
 },
 "nbformat": 4,
 "nbformat_minor": 2
}
